{
 "cells": [
  {
   "cell_type": "code",
   "execution_count": 251,
   "metadata": {},
   "outputs": [],
   "source": [
    "import numpy as np\n",
    "import pandas as pd\n",
    "from scipy.stats import chi2_contingency, chisquare\n",
    "from scipy.stats.contingency import expected_freq\n",
    "\n",
    "N = 1000\n",
    "\n",
    "X = np.random.randint(0, 2, size=[N, 3])\n",
    "\n",
    "df = pd.DataFrame(X)\n",
    "\n",
    "x_column = 0\n",
    "y_column = 1\n",
    "sep_columns = [2]\n",
    "\n",
    "agg_df = df.groupby(sep_columns).apply(lambda x: pd.crosstab(x[x_column], x[y_column]))"
   ]
  },
  {
   "cell_type": "code",
   "execution_count": 252,
   "metadata": {},
   "outputs": [],
   "source": [
    "values = agg_df.loc[0].values\n",
    "\n",
    "n = values.sum()\n",
    "\n",
    "col_sum = values.sum(axis=0)\n",
    "row_sum = values.sum(axis=1)"
   ]
  },
  {
   "cell_type": "code",
   "execution_count": 257,
   "metadata": {},
   "outputs": [
    {
     "name": "stdout",
     "output_type": "stream",
     "text": [
      "0.5569007263922519\n",
      "Power_divergenceResult(statistic=0.5569007263922519, pvalue=0.9062240798199424)\n",
      "Chi2ContingencyResult(statistic=0.5569007263922519, pvalue=0.45551168926403496, dof=1, expected_freq=array([[118., 118.],\n",
      "       [112., 112.]]))\n"
     ]
    }
   ],
   "source": [
    "values_expect = np.zeros_like(values)\n",
    "for row_idx in range(values.shape[0]):\n",
    "    for col_idx in range(values.shape[1]):\n",
    "        values_expect[row_idx, col_idx] = row_sum[row_idx] * col_sum[col_idx] / n\n",
    "\n",
    "print(np.sum((values - values_expect)**2 / values_expect))\n",
    "print(chisquare(values.ravel(), values_expect.ravel()))\n",
    "print(chi2_contingency(values, correction=False))"
   ]
  }
 ],
 "metadata": {
  "kernelspec": {
   "display_name": "ml",
   "language": "python",
   "name": "python3"
  },
  "language_info": {
   "codemirror_mode": {
    "name": "ipython",
    "version": 3
   },
   "file_extension": ".py",
   "mimetype": "text/x-python",
   "name": "python",
   "nbconvert_exporter": "python",
   "pygments_lexer": "ipython3",
   "version": "3.11.6"
  }
 },
 "nbformat": 4,
 "nbformat_minor": 2
}
